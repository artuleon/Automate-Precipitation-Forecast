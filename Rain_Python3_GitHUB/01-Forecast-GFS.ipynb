{
 "cells": [
  {
   "cell_type": "code",
   "execution_count": 1,
   "metadata": {},
   "outputs": [
    {
     "name": "stdout",
     "output_type": "stream",
     "text": [
      "Forecast Model Data\n",
      "Forecast Products and Analyses\n",
      "Observation Data\n",
      "Radar Data\n",
      "Satellite Data\n",
      "Unidata case studies\n"
     ]
    }
   ],
   "source": [
    "from siphon.catalog import TDSCatalog\n",
    "top_cat = TDSCatalog('http://thredds.ucar.edu/thredds/catalog.xml')\n",
    "for ref in top_cat.catalog_refs:\n",
    "    print(ref)"
   ]
  },
  {
   "cell_type": "code",
   "execution_count": 2,
   "metadata": {
    "scrolled": false
   },
   "outputs": [
    {
     "data": {
      "text/plain": [
       "['GEFS Members - Analysis',\n",
       " 'GEFS Members - Forecasts',\n",
       " 'GEFS Derived Forecast Products',\n",
       " 'GFS Quarter Degree Analysis',\n",
       " 'GFS Quarter Degree Forecast',\n",
       " 'GFS Half Degree Analysis',\n",
       " 'GFS Half Degree Forecast',\n",
       " 'GFS One Degree Analysis',\n",
       " 'GFS One Degree Forecast',\n",
       " 'GFS Global 1.0 Degree (NOAAPORT)',\n",
       " 'GFS Pacific 20km',\n",
       " 'GFS Puerto Rico Quarter Degree',\n",
       " 'GFS CONUS 80km',\n",
       " 'GFS CONUS 20km',\n",
       " 'GFS Alaska 20km',\n",
       " 'GSD HRRR CONUS 3km wrfprs',\n",
       " 'GSD HRRR CONUS 3km surface',\n",
       " 'NCEP HRRR CONUS 2.5km Analysis',\n",
       " 'NCEP HRRR CONUS 2.5km',\n",
       " 'NAM Alaska 11km',\n",
       " 'NAM Alaska 45km from NOAAPORT',\n",
       " 'NAM Alaska 45km from CONDUIT',\n",
       " 'NAM Alaska 95km',\n",
       " 'NAM CONUS 12km from NOAAPORT',\n",
       " 'NAM CONUS 12km from CONDUIT',\n",
       " 'NAM CONUS 20km',\n",
       " 'NAM CONUS 40km',\n",
       " 'NAM CONUS 80km',\n",
       " 'NAM Polar 90km',\n",
       " 'NAM Fireweather Nested',\n",
       " 'Rapid Refresh CONUS 13km',\n",
       " 'Rapid Refresh CONUS 20km',\n",
       " 'Rapid Refresh CONUS 40km',\n",
       " 'SREF CONUS 40km Ensemble Derived Products',\n",
       " 'SREF CONUS 40km Ensemble Derived Products (Bias Corrected)',\n",
       " 'SREF Alaska 45km Ensemble Derived Products',\n",
       " 'SREF Pacific North East 0.4 Degree Ensemble Derived Products',\n",
       " 'Wave Watch III Global',\n",
       " 'Wave Watch III Regional Alaska',\n",
       " 'Wave Watch III Coastal Alaska',\n",
       " 'Wave Watch III Regional Eastern Pacific',\n",
       " 'Wave Watch III Regional US East Coast',\n",
       " 'Wave Watch III Regional US West Coast',\n",
       " 'Wave Watch III Coastal US East Coast',\n",
       " 'Wave Watch III Coastal US West Coast',\n",
       " 'RDPS North America 15km',\n",
       " 'FNMOC NAVGEM Global 0.5 Degree',\n",
       " 'FNMOC WW3 Global 1.0 Degree',\n",
       " 'FNMOC WW3 Europe',\n",
       " 'FNMOC FAROP Global 1.0 Degree',\n",
       " 'FNMOC COAMPS Western Atlantic',\n",
       " 'FNMOC COAMPS Europe',\n",
       " 'FNMOC COAMPS Equatorial America',\n",
       " 'FNMOC COAMPS Northeast Pacific',\n",
       " 'FNMOC COAMPS Southern California',\n",
       " 'FNMOC NCODA Global Ocean']"
      ]
     },
     "execution_count": 2,
     "metadata": {},
     "output_type": "execute_result"
    }
   ],
   "source": [
    "ref = top_cat.catalog_refs['Forecast Model Data']\n",
    "new_cat = ref.follow()\n",
    "list(new_cat.catalog_refs)"
   ]
  },
  {
   "cell_type": "code",
   "execution_count": 13,
   "metadata": {},
   "outputs": [
    {
     "name": "stdout",
     "output_type": "stream",
     "text": [
      "2019-08-12 12:00:00\n",
      "2019-08-12 18:00:00\n",
      "2019-08-13 00:00:00\n",
      "2019-08-13 06:00:00\n",
      "2019-08-13 12:00:00\n",
      "2019-08-13 18:00:00\n",
      "2019-08-14 00:00:00\n",
      "2019-08-14 06:00:00\n"
     ]
    }
   ],
   "source": [
    "%matplotlib inline\n",
    "import os, subprocess\n",
    "from siphon.catalog import TDSCatalog\n",
    "import matplotlib.pyplot as plt\n",
    "from datetime import datetime, timedelta\n",
    "from netCDF4 import num2date\n",
    "import numpy as np\n",
    "from scipy import interpolate\n",
    "import cartopy.crs as ccrs\n",
    "import cartopy.feature as cfeature\n",
    "from pyproj import Proj\n",
    "import pyproj\n",
    "import rasterio\n",
    "from rasterio.transform import from_origin\n",
    "\n",
    "\n",
    "# Define bounding box\n",
    "North = 30.25\n",
    "South = 29.75\n",
    "West = -96\n",
    "East = -95.25\n",
    "LeadTime = 2 # in days\n",
    "\n",
    "res = 1000. #resampled resolution in meter UTM\n",
    "\n",
    "save_dir = 'Forecast_GFS/'\n",
    "if not os.path.isdir(save_dir):\n",
    "    os.mkdir(save_dir)\n",
    "        \n",
    "# use pyproj to convert lats lons to UTM\n",
    "GRIB2_proj = Proj(\"+proj=longlat +ellps=WGS84 +pm=-360 +datum=WGS84 +no_defs\") #put pm=-360 to indicate GRIB2 projection\n",
    "Projected = Proj(init=\"EPSG:26914\") #26914 Cypress UTM 14N\n",
    "#Parameter = 'Total_precipitation_surface_Mixed_intervals_Accumulation'\n",
    "Parameter = 'Precipitable_water_entire_atmosphere_single_layer'\n",
    "\n",
    "def Plot_Parameter(Precipitation_vals, lon_2d, lat_2d):\n",
    "\n",
    "    # Combine 1D latitude and longitudes into a 2D grid of locations\n",
    "    fig = plt.figure(figsize=(10, 9))\n",
    "\n",
    "    # Add the map and set the extent\n",
    "    ax = plt.axes(projection=ccrs.PlateCarree())\n",
    "    ax.set_extent([East, West, North, South])\n",
    "\n",
    "    # Contour Parameter at each lat/long\n",
    "    cf = ax.contourf(lon_2d, lat_2d, Precipitation_vals, 200, transform=ccrs.PlateCarree(), zorder=0, cmap='coolwarm')\n",
    "\n",
    "    # Plot a colorbar to show Parameter and reduce the size of it\n",
    "    plt.colorbar(cf, ax=ax, fraction=0.02)\n",
    "\n",
    "    # Make a title with the time value\n",
    "    ax.set_title(u'Precipitation Forecast (mm) for {0:%d %B %Y %H:%MZ}'.format(time_val), fontsize=20)\n",
    "\n",
    "    # Plot markers for each lat/long to show grid points for 0.25 deg GFS\n",
    "    ax.plot(lon_2d.flatten(), lat_2d.flatten(), marker='o', color='black', markersize=2, alpha=0.3, transform=ccrs.Geodetic(), zorder=2, linestyle='none')\n",
    "\n",
    "    # Add state boundaries to plot\n",
    "    ax.add_feature(cfeature.STATES.with_scale('50m'), linewidth=12)\n",
    "    ax.add_feature(cfeature.BORDERS.with_scale('50m'))\n",
    "    ax.coastlines(resolution='50m', color='black', linewidth=1)\n",
    "    plt.close()\n",
    "    \n",
    "    # save rather than show\n",
    "#     plt.saveas()\n",
    "\n",
    "\n",
    "# Get the dataset handle\n",
    "top_cat = TDSCatalog('http://thredds.ucar.edu/thredds/catalog.xml')\n",
    "models_cat = top_cat.catalog_refs[0].follow()\n",
    "gfs_cat = models_cat.catalog_refs['GFS Quarter Degree Forecast'].follow()\n",
    "ncss = gfs_cat.latest.subset()\n",
    "now = datetime.utcnow()\n",
    "\n",
    "\n",
    "# Download a subset in box using NCSS\n",
    "queryBox = ncss.query().lonlat_box(east=East, west=West, south=South, north=North)\n",
    "queryBox.time_range(now, now + timedelta(days=LeadTime)).accept('netcdf4')\n",
    "queryBox.variables(Parameter)\n",
    "data = ncss.get_data(queryBox)\n",
    "Precipitation_var = data.variables[Parameter] # pull time variable out of the coordinates attribute on Precipitation\n",
    "time_name = Precipitation_var.coordinates.split()[0]\n",
    "time_var = data.variables[time_name]\n",
    "lat_var = data.variables['lat']\n",
    "lon_var = data.variables['lon']\n",
    "lat_vals = lat_var[:].squeeze()\n",
    "lon_vals = lon_var[:].squeeze()\n",
    "\n",
    "\n",
    "#convert coordinate\n",
    "x,y = np.meshgrid(lon_vals, lat_vals)\n",
    "UTMx, UTMy = pyproj.transform(GRIB2_proj, Projected, x.flatten(), y.flatten())\n",
    "UTMx_grid = np.reshape(UTMx,(x.shape))\n",
    "UTMy_grid = np.reshape(UTMy,(y.shape))\n",
    "xmin, xmax, ymin, ymax = [UTMx.min(), UTMx.max(), UTMy.min(), UTMy.max()]\n",
    "UTMx_res = np.arange(xmin, xmax, res)\n",
    "UTMy_res = np.arange(ymin, ymax, res)\n",
    "grid_x_res, grid_y_res = np.meshgrid(UTMx_res, UTMy_res)\n",
    "nrows_res, ncols_res = np.shape(grid_x_res)\n",
    "\n",
    "\n",
    "\n",
    "for timeId in range(0, np.shape(time_var)[0], 2):\n",
    "    \n",
    "    # Get the actual data values and remove any size 1 dimensions\n",
    "    Precipitation_vals = Precipitation_var[timeId].squeeze()\n",
    "    \n",
    "    # Convert the number of hours since the reference time to an actual date, check the array index\n",
    "    time_val = num2date(time_var[timeId].squeeze(), time_var.units)\n",
    "    print(num2date(time_var[timeId].squeeze(), time_var.units))\n",
    "    \n",
    "    #convert date to string\n",
    "    filenameASC = save_dir + 'gfs.0p25.' + time_val.strftime(\"%Y%m%d%H\") + '.asc'\n",
    "    \n",
    "    #resample raster\n",
    "    Precipitation_res = interpolate.griddata((UTMx_grid.flatten(), UTMy_grid.flatten()), Precipitation_vals.flatten(), (grid_x_res, grid_y_res) , method='cubic')\n",
    "    Precipitation_res[np.isnan(Precipitation_res)]=-9999\n",
    "    #save resampled raster to ascii\n",
    "    transform = from_origin(grid_x_res.min(), grid_y_res.max(), res, res)\n",
    "    new_dataset = rasterio.open(filenameASC, 'w', nodata = -9999, driver='AAIGrid', decimal_precision=1,\n",
    "                                height = nrows_res, width = ncols_res,\n",
    "                                count=1, dtype=str(Precipitation_res.dtype),\n",
    "                                transform=transform,\n",
    "                                crs=Projected.srs)\n",
    "    new_dataset.write(Precipitation_res, 1)\n",
    "    new_dataset.close()"
   ]
  },
  {
   "cell_type": "code",
   "execution_count": 14,
   "metadata": {},
   "outputs": [
    {
     "data": {
      "text/plain": [
       "[<matplotlib.lines.Line2D at 0x29b7bf650f0>]"
      ]
     },
     "execution_count": 14,
     "metadata": {},
     "output_type": "execute_result"
    },
    {
     "data": {
      "image/png": "[encoded data removed]",
      "text/plain": [
       "<Figure size 288x288 with 1 Axes>"
      ]
     },
     "metadata": {
      "needs_background": "light"
     },
     "output_type": "display_data"
    }
   ],
   "source": [
    "# Download a subset using NCSS\n",
    "querypoint = ncss.query().lonlat_point(lon=-96, lat=29.75)\n",
    "querypoint.time_range(now, now + timedelta(days=LeadTime)).accept('netcdf4')\n",
    "querypoint.variables(Parameter)\n",
    "data_point = ncss.get_data(querypoint)\n",
    "\n",
    "# Plot\n",
    "fig, ax = plt.subplots(1, 1, figsize=(4, 4))\n",
    "Precip_Point = data_point.variables[Parameter][:]\n",
    "ax.plot(Precip_Point, color='r')"
   ]
  },
  {
   "cell_type": "markdown",
   "metadata": {},
   "source": [
    "Convert ASC files to HEC-DSS"
   ]
  },
  {
   "cell_type": "code",
   "execution_count": 25,
   "metadata": {},
   "outputs": [],
   "source": [
    "# convert to DSS\n",
    "import re\n",
    "import glob \n",
    "import platform\n",
    "from datetime import datetime, timedelta\n",
    "\n",
    "# Local variables:\n",
    "# my_path = os.path.abspath(os.path.dirname(__file__))\n",
    "# inDir = os.path.join(my_path, \"..\\Forecast_GFS\")\n",
    "# openBATfile = my_path  + \"\\ASCIIToDSS.bat\"\n",
    "\n",
    "# Local variables:\n",
    "#inDir = 'Precipitation_Mongolia/ASC_2000_Dis/'\n",
    "openBATfile = save_dir + 'ASCIIToDSS.bat'\n",
    "\n",
    "# for generating asc2dss strings\n",
    "text_1 = \"asc2dssGrid INPUT=\"\n",
    "text_2 = \" DSS=GFS.dss PATH=/UTM14/Cypress/Precip/\"\n",
    "text_3 = \"/\"\n",
    "text_4 = \"/PROJECTED/ GRIDTYPE=UTM ZONE=14N DUNITS=mm DTYPE=PER-CUM\" \n",
    "\n",
    "# Open and Write to file1  \n",
    "file1 = open(openBATfile,\"w\")\n",
    "\n",
    "# date = [date for file in glob.glob(inDir + '*.asc') for date in re.findall(\"(\\d{10})\", file)]\n",
    "date = [date for file in glob.glob(save_dir + '*.asc') for date in re.findall(\"(\\d{10})\", file)]\n",
    "date.sort(key = lambda date: datetime.strptime(date, \"%Y%m%d%H\")) \n",
    "delt = datetime.strptime(date[1], \"%Y%m%d%H\") - datetime.strptime(date[0], \"%Y%m%d%H\")\n",
    "# AscFiles = glob.glob(inDir + '*.asc')\n",
    "AscFiles = glob.glob(save_dir + '*.asc')\n",
    "\n",
    "for index in range(0, len(date)):\n",
    "\n",
    "    namefile = 'gfs.0p25.' + date[index] + '.asc'\n",
    "    objDate = datetime.strptime(date[index], '%Y%m%d%H')\n",
    "\n",
    "    if (objDate.hour==0): \n",
    "        objDate0 = objDate - delt #timedelta(hours=1)\n",
    "        objDate = objDate - delt #timedelta(days=1)\n",
    "        converted_date = datetime.strftime(objDate,'%d%b%Y:2400') #HEC-DSS only accept 24:00 format!\n",
    "    else:\n",
    "        converted_date = datetime.strftime(objDate,'%d%b%Y:%H%M')\n",
    "        objDate0 = objDate - delt#timedelta(hours=1)\n",
    "    \n",
    "    converted_date0 = datetime.strftime(objDate0,'%d%b%Y:%H%M')\n",
    "\n",
    "    full_text = text_1 + namefile + text_2 + converted_date0 + text_3 + converted_date + text_4\n",
    "    file1.write(full_text + \"\\n\")\n",
    "    \n",
    "file1.close() #to close file   "
   ]
  },
  {
   "cell_type": "code",
   "execution_count": 16,
   "metadata": {},
   "outputs": [
    {
     "data": {
      "text/plain": [
       "'Forecast_GFS/ASCIIToDSS.bat'"
      ]
     },
     "execution_count": 16,
     "metadata": {},
     "output_type": "execute_result"
    }
   ],
   "source": [
    "openBATfile"
   ]
  },
  {
   "cell_type": "markdown",
   "metadata": {},
   "source": [
    "execute asc2dssGrid.exe"
   ]
  },
  {
   "cell_type": "code",
   "execution_count": 24,
   "metadata": {},
   "outputs": [
    {
     "ename": "CalledProcessError",
     "evalue": "Command 'C:\\temp\\Flood_Forecasting\\Forecast_GFS\\ASCIIToDSS.bat' returned non-zero exit status 1.",
     "output_type": "error",
     "traceback": [
      "\u001b[1;31m---------------------------------------------------------------------------\u001b[0m",
      "\u001b[1;31mCalledProcessError\u001b[0m                        Traceback (most recent call last)",
      "\u001b[1;32m<ipython-input-24-35d6c0dfe523>\u001b[0m in \u001b[0;36m<module>\u001b[1;34m\u001b[0m\n\u001b[0;32m      1\u001b[0m \u001b[1;32mimport\u001b[0m \u001b[0msubprocess\u001b[0m\u001b[1;33m\u001b[0m\u001b[1;33m\u001b[0m\u001b[0m\n\u001b[1;32m----> 2\u001b[1;33m \u001b[0msubprocess\u001b[0m\u001b[1;33m.\u001b[0m\u001b[0mcheck_call\u001b[0m\u001b[1;33m(\u001b[0m\u001b[1;34mr'C:\\temp\\Flood_Forecasting\\Forecast_GFS\\ASCIIToDSS.bat'\u001b[0m\u001b[1;33m)\u001b[0m\u001b[1;33m\u001b[0m\u001b[1;33m\u001b[0m\u001b[0m\n\u001b[0m",
      "\u001b[1;32m~\\.conda\\envs\\flood01_win10\\lib\\subprocess.py\u001b[0m in \u001b[0;36mcheck_call\u001b[1;34m(*popenargs, **kwargs)\u001b[0m\n\u001b[0;32m    289\u001b[0m         \u001b[1;32mif\u001b[0m \u001b[0mcmd\u001b[0m \u001b[1;32mis\u001b[0m \u001b[1;32mNone\u001b[0m\u001b[1;33m:\u001b[0m\u001b[1;33m\u001b[0m\u001b[1;33m\u001b[0m\u001b[0m\n\u001b[0;32m    290\u001b[0m             \u001b[0mcmd\u001b[0m \u001b[1;33m=\u001b[0m \u001b[0mpopenargs\u001b[0m\u001b[1;33m[\u001b[0m\u001b[1;36m0\u001b[0m\u001b[1;33m]\u001b[0m\u001b[1;33m\u001b[0m\u001b[1;33m\u001b[0m\u001b[0m\n\u001b[1;32m--> 291\u001b[1;33m         \u001b[1;32mraise\u001b[0m \u001b[0mCalledProcessError\u001b[0m\u001b[1;33m(\u001b[0m\u001b[0mretcode\u001b[0m\u001b[1;33m,\u001b[0m \u001b[0mcmd\u001b[0m\u001b[1;33m)\u001b[0m\u001b[1;33m\u001b[0m\u001b[1;33m\u001b[0m\u001b[0m\n\u001b[0m\u001b[0;32m    292\u001b[0m     \u001b[1;32mreturn\u001b[0m \u001b[1;36m0\u001b[0m\u001b[1;33m\u001b[0m\u001b[1;33m\u001b[0m\u001b[0m\n\u001b[0;32m    293\u001b[0m \u001b[1;33m\u001b[0m\u001b[0m\n",
      "\u001b[1;31mCalledProcessError\u001b[0m: Command 'C:\\temp\\Flood_Forecasting\\Forecast_GFS\\ASCIIToDSS.bat' returned non-zero exit status 1."
     ]
    }
   ],
   "source": [
    "import subprocess\n",
    "subprocess.check_call(r'C:\\temp\\Flood_Forecasting\\Forecast_GFS\\ASCIIToDSS.bat')"
   ]
  },
  {
   "cell_type": "code",
   "execution_count": null,
   "metadata": {},
   "outputs": [],
   "source": []
  }
 ],
 "metadata": {
  "kernelspec": {
   "display_name": "Python 3",
   "language": "python",
   "name": "python3"
  },
  "language_info": {
   "codemirror_mode": {
    "name": "ipython",
    "version": 3
   },
   "file_extension": ".py",
   "mimetype": "text/x-python",
   "name": "python",
   "nbconvert_exporter": "python",
   "pygments_lexer": "ipython3",
   "version": "3.6.7"
  }
 },
 "nbformat": 4,
 "nbformat_minor": 2
}
