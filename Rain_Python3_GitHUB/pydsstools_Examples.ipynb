{
 "cells": [
  {
   "cell_type": "markdown",
   "metadata": {},
   "source": [
    "## EXAMPLE 1"
   ]
  },
  {
   "cell_type": "code",
   "execution_count": 6,
   "metadata": {},
   "outputs": [],
   "source": [
    "'''\n",
    "Write regular time-series data to example.dss\n",
    "\n",
    "Notes:\n",
    "     The interval must be [any] integer greater than 0 for regular time-series.\n",
    "     Actual time-series interval implied from E-Part of pathname\n",
    "     The values attribute can be list, array or numpy array\n",
    "\n",
    "'''\n",
    "from datetime import datetime\n",
    "from pydsstools.heclib.dss import HecDss\n",
    "from pydsstools.core import TimeSeriesContainer,UNDEFINED\n",
    "\n",
    "dss_file = \"example.dss\"\n",
    "pathname = \"/REGULAR/TIMESERIES/FLOW//1HOUR/Ex1/\"\n",
    "tsc = TimeSeriesContainer()\n",
    "tsc.pathname = pathname\n",
    "tsc.startDateTime=\"15JUL2019 19:00:00\"\n",
    "tsc.numberValues = 5\n",
    "tsc.units = \"cfs\"\n",
    "tsc.type = \"INST\"\n",
    "tsc.interval = 1\n",
    "tsc.values = [100,UNDEFINED,500,5000,10000]\n",
    "\n",
    "fid = HecDss.Open(dss_file)\n",
    "fid.deletePathname(tsc.pathname)\n",
    "fid.put_ts(tsc)\n",
    "ts = fid.read_ts(pathname)\n",
    "fid.close()\n"
   ]
  },
  {
   "cell_type": "markdown",
   "metadata": {},
   "source": [
    "## EXAMPLE 2"
   ]
  },
  {
   "cell_type": "code",
   "execution_count": 7,
   "metadata": {},
   "outputs": [
    {
     "name": "stderr",
     "output_type": "stream",
     "text": [
      "C:\\Users\\rjl\\.conda\\envs\\flood01_win10\\lib\\site-packages\\pandas\\plotting\\_matplotlib\\converter.py:102: FutureWarning: Using an implicitly registered datetime converter for a matplotlib plotting method. The converter was registered by pandas on import. Future versions of pandas will require you to explicitly register matplotlib converters.\n",
      "\n",
      "To register the converters:\n",
      "\t>>> from pandas.plotting import register_matplotlib_converters\n",
      "\t>>> register_matplotlib_converters()\n",
      "  warnings.warn(msg, FutureWarning)\n"
     ]
    },
    {
     "data": {
      "image/png": "[encoded data removed]",
      "text/plain": [
       "<Figure size 432x288 with 1 Axes>"
      ]
     },
     "metadata": {
      "needs_background": "light"
     },
     "output_type": "display_data"
    }
   ],
   "source": [
    "'''\n",
    "Read and plot regular time-series\n",
    "'''\n",
    "%matplotlib inline\n",
    "from pydsstools.heclib.dss import HecDss\n",
    "import matplotlib.pyplot as plt\n",
    "import numpy as np\n",
    "\n",
    "dss_file = \"example.dss\"\n",
    "pathname = \"/REGULAR/TIMESERIES/FLOW//1HOUR/Ex1/\"\n",
    "startDate = \"15JUL2019 19:00:00\"\n",
    "endDate = \"15JUL2019 21:00:00\"\n",
    "\n",
    "fid = HecDss.Open(dss_file)\n",
    "ts = fid.read_ts(pathname,window=(startDate,endDate),trim_missing=True)\n",
    "\n",
    "times = np.array(ts.pytimes)\n",
    "values = ts.values\n",
    "plt.plot(times[~ts.nodata],values[~ts.nodata],\"o\")\n",
    "plt.show()\n",
    "fid.close()\n"
   ]
  },
  {
   "cell_type": "markdown",
   "metadata": {},
   "source": [
    "## EXAMPLE 3"
   ]
  },
  {
   "cell_type": "code",
   "execution_count": 8,
   "metadata": {},
   "outputs": [],
   "source": [
    "'''\n",
    "Write irregular time-series data\n",
    "\n",
    "Notes:\n",
    "     The interval must be [any] integer <= 0 for irregular time-series.\n",
    "     DParts: IR-MONTH, IR-YEAR, IR-DECADE, IR-CENTURY\n",
    "\n",
    "'''\n",
    "from datetime import datetime\n",
    "from pydsstools.heclib.dss import HecDss\n",
    "from pydsstools.core import TimeSeriesContainer, UNDEFINED\n",
    "\n",
    "dss_file = \"example.dss\"\n",
    "pathname = \"/IRREGULAR/TIMESERIES/FLOW//IR-DECADE/Ex3/\"\n",
    "\n",
    "tsc = TimeSeriesContainer()\n",
    "tsc.numberValues = 5\n",
    "tsc.pathname = pathname\n",
    "tsc.units =\"cfs\"\n",
    "tsc.type = \"INST\"\n",
    "tsc.interval = -1\n",
    "tsc.values = [100,UNDEFINED,500,5000,10000]\n",
    "\n",
    "\n",
    "tsc.times = [datetime(1900,1,12),datetime(1950,6,2,12),\n",
    "             datetime(1999,12,31,23,0,0),datetime(2009,1,20),\n",
    "             datetime(2019,7,15,5,0)]\n",
    "\n",
    "with HecDss.Open(dss_file) as fid:\n",
    "    status = fid.put_ts(tsc)\n"
   ]
  },
  {
   "cell_type": "markdown",
   "metadata": {},
   "source": [
    "## EXAMPLE 4"
   ]
  },
  {
   "cell_type": "code",
   "execution_count": 9,
   "metadata": {},
   "outputs": [
    {
     "name": "stdout",
     "output_type": "stream",
     "text": [
      "[datetime.datetime(1900, 1, 12, 0, 0), datetime.datetime(1950, 6, 2, 12, 0), datetime.datetime(1999, 12, 31, 23, 0), datetime.datetime(2009, 1, 20, 0, 0), datetime.datetime(2019, 7, 15, 5, 0)]\n",
      "[ 1.0000000e+02 -3.4028235e+38  5.0000000e+02  5.0000000e+03\n",
      "  1.0000000e+04]\n",
      "[False  True False False False]\n",
      "False\n"
     ]
    }
   ],
   "source": [
    "'''\n",
    "Read irregular time-series data\n",
    "\n",
    "\n",
    "'''\n",
    "from pydsstools.heclib.dss import HecDss\n",
    "\n",
    "dss_file = \"example.dss\"\n",
    "pathname = \"/IRREGULAR/TIMESERIES/FLOW//IR-DECADE/Ex3/\"\n",
    "\n",
    "with HecDss.Open(dss_file) as fid:\n",
    "    ts = fid.read_ts(pathname,regular=False,window_flag=0)\n",
    "    print(ts.pytimes)\n",
    "    print(ts.values)\n",
    "    print(ts.nodata)\n",
    "    print(ts.empty)\n"
   ]
  },
  {
   "cell_type": "markdown",
   "metadata": {},
   "source": [
    "## EXAMPLE 5"
   ]
  },
  {
   "cell_type": "code",
   "execution_count": 10,
   "metadata": {},
   "outputs": [],
   "source": [
    "'''\n",
    "Write paired data-series\n",
    "'''\n",
    "import numpy as np\n",
    "from pydsstools.heclib.dss import HecDss\n",
    "from pydsstools.core import PairedDataContainer\n",
    "\n",
    "dss_file = \"example.dss\"\n",
    "pathname =\"/PAIRED/DATA/FREQ-FLOW///Ex5/\"\n",
    "\n",
    "pdc = PairedDataContainer()\n",
    "pdc.pathname = pathname\n",
    "pdc.curve_no = 2\n",
    "pdc.independent_axis = list(range(1,10))\n",
    "pdc.data_no = 9\n",
    "pdc.curves = np.array([[5,50,500,5000,50000,10,100,1000,10000],\n",
    "                       [11,11,11,11,11,11,11,11,11]],dtype=np.float32)\n",
    "pdc.labels_list = ['Column 1','Elevens']\n",
    "\n",
    "fid = HecDss.Open(dss_file)\n",
    "fid.put_pd(pdc)\n",
    "fid.close()\n"
   ]
  },
  {
   "cell_type": "markdown",
   "metadata": {},
   "source": [
    "## EXAMPLE 6"
   ]
  },
  {
   "cell_type": "code",
   "execution_count": 11,
   "metadata": {},
   "outputs": [],
   "source": [
    "'''\n",
    "Read paired data-series\n",
    "\n",
    "Notes:\n",
    "    Row and column/curve indices start at 1 (not zero)\n",
    "\n",
    "'''\n",
    "from pydsstools.heclib.dss import HecDss\n",
    "\n",
    "dss_file = \"example.dss\"\n",
    "pathname =\"/PAIRED/DATA/FREQ-FLOW///Ex5/\"\n",
    "\n",
    "#labels_list = ['Column 1','Elevens']\n",
    "\n",
    "with HecDss.Open(dss_file) as fid:\n",
    "    read_all = fid.read_pd(pathname)\n",
    "\n",
    "    row1,row2 = (2,4)\n",
    "    col1,col2 = (1,2)\n",
    "    read_partial = fid.read_pd(pathname,window=(row1,row2,col1,col2))\n"
   ]
  },
  {
   "cell_type": "markdown",
   "metadata": {},
   "source": [
    "## EXAMPLE 7"
   ]
  },
  {
   "cell_type": "code",
   "execution_count": 14,
   "metadata": {},
   "outputs": [],
   "source": [
    "'''\n",
    "Pre-allocate paired data-series\n",
    "'''\n",
    "from pydsstools.heclib.dss import HecDss\n",
    "\n",
    "dss_file = \"example.dss\"\n",
    "pathname =\"/PAIRED/PREALLOCATED DATA/FREQ-FLOW///Ex7/\"\n",
    "\n",
    "with HecDss.Open(dss_file) as fid:\n",
    "    rows = 10\n",
    "    curves = 15\n",
    "    fid.preallocate_pd((rows,curves),pathname=pathname)\n"
   ]
  },
  {
   "cell_type": "markdown",
   "metadata": {},
   "source": [
    "## EXAMPLE 8"
   ]
  },
  {
   "cell_type": "code",
   "execution_count": 16,
   "metadata": {},
   "outputs": [],
   "source": [
    "'''\n",
    "Write individual curve data in pre-allocated paired data-series\n",
    "'''\n",
    "from pydsstools.heclib.dss import HecDss\n",
    "\n",
    "dss_file = \"example.dss\"\n",
    "pathname =\"/PAIRED/PREALLOCATED DATA/FREQ-FLOW///Ex7/\"\n",
    "\n",
    "with HecDss.Open(dss_file) as fid:\n",
    "    curve_index = 5\n",
    "    curve_label = 'Column 5'\n",
    "    curve_data = [10,20,30,40,50,60,70,80,90,100]\n",
    "    fid.put_pd(curve_data,curve_index,pathname=pathname,labels_list=[curve_label])\n",
    "\n",
    "    curve_index = 2\n",
    "    curve_label = 'Column 2'\n",
    "    curve_data = [41,56,60]\n",
    "    row1,row2 = (5,7)\n",
    "    fid.put_pd(curve_data,curve_index,window = (row1,row2),\n",
    "            pathname=pathname,labels_list=[curve_label])\n"
   ]
  },
  {
   "cell_type": "markdown",
   "metadata": {},
   "source": [
    "## EXAMPLE 9"
   ]
  },
  {
   "cell_type": "code",
   "execution_count": 24,
   "metadata": {},
   "outputs": [],
   "source": [
    "'''\n",
    "Read Spatial Grid record\n",
    "'''\n",
    "from pydsstools.heclib.dss.HecDss import Open\n",
    "\n",
    "dss_file = \"example.dss\"\n",
    "\n",
    "pathname = \"/GRID/RECORD/DATA/01jan2001:1200/01jan2001:1300/Ex9/\"\n",
    "\n",
    "with Open(dss_file) as fid:\n",
    "    dataset = fid.read_grid(pathname)\n",
    "    grid_array = dataset.read(masked=True)\n",
    "    profile = dataset.profile\n"
   ]
  },
  {
   "cell_type": "markdown",
   "metadata": {},
   "source": [
    "## EXAMPLE 10"
   ]
  },
  {
   "cell_type": "code",
   "execution_count": 25,
   "metadata": {},
   "outputs": [
    {
     "ename": "AttributeError",
     "evalue": "'NoneType' object has no attribute 'shape'",
     "output_type": "error",
     "traceback": [
      "\u001b[1;31m---------------------------------------------------------------------------\u001b[0m",
      "\u001b[1;31mAttributeError\u001b[0m                            Traceback (most recent call last)",
      "\u001b[1;32m<ipython-input-25-ca97cb8a5406>\u001b[0m in \u001b[0;36m<module>\u001b[1;34m\u001b[0m\n\u001b[0;32m     27\u001b[0m     \u001b[0mprofile_out\u001b[0m\u001b[1;33m.\u001b[0m\u001b[0mupdate\u001b[0m\u001b[1;33m(\u001b[0m\u001b[0mtype\u001b[0m\u001b[1;33m=\u001b[0m\u001b[1;34m\"PER-AVER\"\u001b[0m\u001b[1;33m,\u001b[0m\u001b[0mnodata\u001b[0m\u001b[1;33m=\u001b[0m\u001b[1;36m0\u001b[0m\u001b[1;33m,\u001b[0m\u001b[0mtransform\u001b[0m\u001b[1;33m=\u001b[0m\u001b[0mdataset_in\u001b[0m\u001b[1;33m.\u001b[0m\u001b[0mtransform\u001b[0m\u001b[1;33m)\u001b[0m \u001b[1;31m# required parameters\u001b[0m\u001b[1;33m\u001b[0m\u001b[1;33m\u001b[0m\u001b[0m\n\u001b[0;32m     28\u001b[0m     \u001b[0mprofile_out\u001b[0m\u001b[1;33m.\u001b[0m\u001b[0mupdate\u001b[0m\u001b[1;33m(\u001b[0m\u001b[0mcrs\u001b[0m\u001b[1;33m=\u001b[0m\u001b[1;34m\"UNDEFINED\"\u001b[0m\u001b[1;33m,\u001b[0m\u001b[0munits\u001b[0m\u001b[1;33m=\u001b[0m\u001b[1;34m\"ft\"\u001b[0m\u001b[1;33m,\u001b[0m\u001b[0mtzid\u001b[0m\u001b[1;33m=\u001b[0m\u001b[1;34m\"\"\u001b[0m\u001b[1;33m,\u001b[0m\u001b[0mtzoffset\u001b[0m\u001b[1;33m=\u001b[0m\u001b[1;36m0\u001b[0m\u001b[1;33m,\u001b[0m\u001b[0mdatasource\u001b[0m\u001b[1;33m=\u001b[0m\u001b[1;34m''\u001b[0m\u001b[1;33m)\u001b[0m \u001b[1;31m# optional parameters\u001b[0m\u001b[1;33m\u001b[0m\u001b[1;33m\u001b[0m\u001b[0m\n\u001b[1;32m---> 29\u001b[1;33m     \u001b[0mgrid_out\u001b[0m \u001b[1;33m=\u001b[0m \u001b[0mnp\u001b[0m\u001b[1;33m.\u001b[0m\u001b[0mrandom\u001b[0m\u001b[1;33m.\u001b[0m\u001b[0mrand\u001b[0m\u001b[1;33m(\u001b[0m\u001b[1;33m*\u001b[0m\u001b[0mgrid_in\u001b[0m\u001b[1;33m.\u001b[0m\u001b[0mshape\u001b[0m\u001b[1;33m)\u001b[0m\u001b[1;33m*\u001b[0m\u001b[1;36m100\u001b[0m\u001b[1;33m\u001b[0m\u001b[1;33m\u001b[0m\u001b[0m\n\u001b[0m\u001b[0;32m     30\u001b[0m     \u001b[0mfid\u001b[0m\u001b[1;33m.\u001b[0m\u001b[0mput_grid\u001b[0m\u001b[1;33m(\u001b[0m\u001b[0mpathname_out\u001b[0m\u001b[1;33m,\u001b[0m\u001b[0mgrid_out\u001b[0m\u001b[1;33m,\u001b[0m\u001b[0mprofile_out\u001b[0m\u001b[1;33m,\u001b[0m\u001b[0mflipud\u001b[0m\u001b[1;33m=\u001b[0m\u001b[1;36m1\u001b[0m\u001b[1;33m)\u001b[0m\u001b[1;33m\u001b[0m\u001b[1;33m\u001b[0m\u001b[0m\n",
      "\u001b[1;31mAttributeError\u001b[0m: 'NoneType' object has no attribute 'shape'"
     ]
    }
   ],
   "source": [
    "'''\n",
    "Write Spatial Grid record\n",
    "\n",
    "Notes:\n",
    "    type options: PER-AVER, PER-CUM, INST-VAL,INST-CUM, FREQ, INVALID\n",
    "    flipud: 1 (default) -  flips the numpy array upside down as dss array layout is opposite\n",
    "            0 - numpy array array is stored as it is\n",
    "\n",
    "\n",
    "'''\n",
    "import numpy as np\n",
    "from pydsstools.heclib.dss.HecDss import Open\n",
    "\n",
    "dss_file = \"example.dss\"\n",
    "\n",
    "pathname_in = \"/GRID/RECORD/DATA/01jan2001:1200/01jan2001:1300/Ex9/\"\n",
    "pathname_out = \"/GRID/RECORD/DATA/01jan2019:1200/01jan2019:1300/Ex10/\"\n",
    "\n",
    "with Open(dss_file) as fid:\n",
    "    # get shape and profile from example grid dss record\n",
    "    dataset_in = fid.read_grid(pathname_in)\n",
    "    profile_in = dataset_in.profile\n",
    "    grid_in = dataset_in.read()\n",
    "\n",
    "    # create random array, update profile and save as grid record\n",
    "    profile_out = profile_in.copy()\n",
    "    profile_out.update(type=\"PER-AVER\",nodata=0,transform=dataset_in.transform) # required parameters\n",
    "    profile_out.update(crs=\"UNDEFINED\",units=\"ft\",tzid=\"\",tzoffset=0,datasource='') # optional parameters\n",
    "    grid_out = np.random.rand(*grid_in.shape)*100\n",
    "    fid.put_grid(pathname_out,grid_out,profile_out,flipud=1)\n"
   ]
  },
  {
   "cell_type": "code",
   "execution_count": 26,
   "metadata": {},
   "outputs": [],
   "source": [
    "'''\n",
    "Write Spatial Grid record\n",
    "\n",
    "Notes:\n",
    "    type options: PER-AVER, PER-CUM, INST-VAL,INST-CUM, FREQ, INVALID\n",
    "    flipud: 1 (default) -  flips the numpy array upside down as dss array layout is opposite\n",
    "            0 - numpy array array is stored as it is\n",
    "\n",
    "\n",
    "'''\n",
    "import numpy as np\n",
    "from pydsstools.heclib.dss.HecDss import Open\n",
    "\n",
    "dss_file = \"example.dss\"\n",
    "\n",
    "#pathname_in = \"/GRID/RECORD/DATA/01jan2001:1200/01jan2001:1300/Ex9/\"\n",
    "pathname_out = \"/GRID/RECORD/DATA/01jan2019:1200/01jan2019:1300/Ex10/\"\n",
    "\n",
    "grid_in = np.random.rand(50,50)\n",
    "\n",
    "with Open(dss_file) as fid:\n",
    "    # get shape and profile from example grid dss record\n",
    "#    dataset_in = fid.read_grid(pathname_in)\n",
    "#    profile_in = dataset_in.profile\n",
    "#    grid_in = dataset_in.read()\n",
    "\n",
    "    # create random array, update profile and save as grid record\n",
    "    profile_out = profile_in.copy()\n",
    "    profile_out.update(type=\"PER-AVER\",nodata=0,transform=dataset_in.transform) # required parameters\n",
    "    profile_out.update(crs=\"UNDEFINED\",units=\"ft\",tzid=\"\",tzoffset=0,datasource='') # optional parameters\n",
    "    grid_out = np.random.rand(*grid_in.shape)*100\n",
    "    fid.put_grid(pathname_out,grid_out,profile_out,flipud=1)\n"
   ]
  },
  {
   "cell_type": "code",
   "execution_count": 27,
   "metadata": {},
   "outputs": [
    {
     "data": {
      "text/plain": [
       "array([[87.83560064, 11.88371601, 80.30212574, ..., 26.10638483,\n",
       "        80.52317838, 61.1085956 ],\n",
       "       [74.0321909 , 44.64189831, 75.79889245, ..., 95.11740814,\n",
       "        34.87199234, 39.32024991],\n",
       "       [49.34821163, 48.23517376, 59.57034044, ..., 10.2431135 ,\n",
       "        62.27143122, 79.71053239],\n",
       "       ...,\n",
       "       [24.81732451,  3.78911906, 89.89486879, ..., 61.68304767,\n",
       "        26.70596901, 10.23081586],\n",
       "       [78.84299447, 98.38950035, 16.21209817, ..., 16.09196932,\n",
       "        38.89317673, 48.00367705],\n",
       "       [91.65155741, 40.93340938,  4.42613824, ..., 11.62411207,\n",
       "         7.66027046, 85.04741695]])"
      ]
     },
     "execution_count": 27,
     "metadata": {},
     "output_type": "execute_result"
    }
   ],
   "source": [
    "grid_out"
   ]
  },
  {
   "cell_type": "code",
   "execution_count": 29,
   "metadata": {},
   "outputs": [
    {
     "name": "stdout",
     "output_type": "stream",
     "text": [
      "{'TS': ['/REGULAR/TIMESERIES/FLOW/01Jul2019/1Hour/Ex1/', '/IRREGULAR/TIMESERIES/FLOW/01Jan1900/IR-Decade/Ex3/', '/IRREGULAR/TIMESERIES/FLOW/01Jan1950/IR-Decade/Ex3/', '/IRREGULAR/TIMESERIES/FLOW/01Jan1990/IR-Decade/Ex3/', '/IRREGULAR/TIMESERIES/FLOW/01Jan2000/IR-Decade/Ex3/', '/IRREGULAR/TIMESERIES/FLOW/01Jan2010/IR-Decade/Ex3/'], 'RTS': [], 'ITS': [], 'PD': ['/PAIRED/DATA/FREQ-FLOW///Ex5/', '/PAIRED/PREALLOCATED DATA/FREQ-FLOW///Ex7/'], 'GRID': ['/GRID/RECORD/DATA/01jan2019:1200/01jan2019:1300/Ex10/'], 'OTHER': []}\n"
     ]
    },
    {
     "ename": "KeyboardInterrupt",
     "evalue": "",
     "output_type": "error",
     "traceback": [
      "\u001b[1;31m---------------------------------------------------------------------------\u001b[0m",
      "\u001b[1;31mKeyboardInterrupt\u001b[0m                         Traceback (most recent call last)",
      "\u001b[1;32m~\\.conda\\envs\\flood01_win10\\lib\\site-packages\\dssvue\\models.py\u001b[0m in \u001b[0;36mheaderData\u001b[1;34m(self, section, orientation, role)\u001b[0m\n\u001b[0;32m    100\u001b[0m             \u001b[1;32mreturn\u001b[0m \u001b[0mself\u001b[0m\u001b[1;33m.\u001b[0m\u001b[0m__container\u001b[0m\u001b[1;33m.\u001b[0m\u001b[0mshape\u001b[0m\u001b[1;33m[\u001b[0m\u001b[1;36m0\u001b[0m\u001b[1;33m]\u001b[0m\u001b[1;33m\u001b[0m\u001b[1;33m\u001b[0m\u001b[0m\n\u001b[0;32m    101\u001b[0m \u001b[1;33m\u001b[0m\u001b[0m\n\u001b[1;32m--> 102\u001b[1;33m     \u001b[1;32mdef\u001b[0m \u001b[0mheaderData\u001b[0m\u001b[1;33m(\u001b[0m\u001b[0mself\u001b[0m\u001b[1;33m,\u001b[0m \u001b[0msection\u001b[0m\u001b[1;33m,\u001b[0m \u001b[0morientation\u001b[0m\u001b[1;33m,\u001b[0m \u001b[0mrole\u001b[0m\u001b[1;33m)\u001b[0m\u001b[1;33m:\u001b[0m\u001b[1;33m\u001b[0m\u001b[1;33m\u001b[0m\u001b[0m\n\u001b[0m\u001b[0;32m    103\u001b[0m         \u001b[1;32mif\u001b[0m \u001b[1;32mnot\u001b[0m \u001b[0mself\u001b[0m\u001b[1;33m.\u001b[0m\u001b[0mempty\u001b[0m\u001b[1;33m(\u001b[0m\u001b[1;33m)\u001b[0m\u001b[1;33m:\u001b[0m\u001b[1;33m\u001b[0m\u001b[1;33m\u001b[0m\u001b[0m\n\u001b[0;32m    104\u001b[0m             \u001b[0mhor_headers\u001b[0m \u001b[1;33m=\u001b[0m \u001b[0mself\u001b[0m\u001b[1;33m.\u001b[0m\u001b[0m__container\u001b[0m\u001b[1;33m.\u001b[0m\u001b[0mcolumns\u001b[0m\u001b[1;33m.\u001b[0m\u001b[0mtolist\u001b[0m\u001b[1;33m(\u001b[0m\u001b[1;33m)\u001b[0m\u001b[1;33m\u001b[0m\u001b[1;33m\u001b[0m\u001b[0m\n",
      "\u001b[1;31mKeyboardInterrupt\u001b[0m: "
     ]
    }
   ],
   "source": [
    "from dssvue.main import show\n",
    "show(dss_file)"
   ]
  },
  {
   "cell_type": "code",
   "execution_count": null,
   "metadata": {},
   "outputs": [],
   "source": []
  }
 ],
 "metadata": {
  "kernelspec": {
   "display_name": "Python [conda env:.conda-flood01_win10] *",
   "language": "python",
   "name": "conda-env-.conda-flood01_win10-py"
  },
  "language_info": {
   "codemirror_mode": {
    "name": "ipython",
    "version": 3
   },
   "file_extension": ".py",
   "mimetype": "text/x-python",
   "name": "python",
   "nbconvert_exporter": "python",
   "pygments_lexer": "ipython3",
   "version": "3.6.7"
  }
 },
 "nbformat": 4,
 "nbformat_minor": 2
}
